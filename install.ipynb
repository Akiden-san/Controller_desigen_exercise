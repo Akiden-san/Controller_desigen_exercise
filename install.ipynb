{
 "cells": [
  {
   "cell_type": "code",
   "execution_count": 441,
   "id": "ac71991a",
   "metadata": {},
   "outputs": [
    {
     "name": "stdout",
     "output_type": "stream",
     "text": [
      "Cloning into 'Controller_desigen_exercise'...\n",
      "remote: Enumerating objects: 10, done.\u001b[K\n",
      "remote: Counting objects: 100% (10/10), done.\u001b[K\n",
      "remote: Compressing objects: 100% (10/10), done.\u001b[K\n",
      "remote: Total 10 (delta 2), reused 0 (delta 0), pack-reused 0 (from 0)\u001b[K\n",
      "Receiving objects: 100% (10/10), 4.43 KiB | 4.43 MiB/s, done.\n",
      "Resolving deltas: 100% (2/2), done.\n"
     ]
    }
   ],
   "source": [
    "!git clone https://github.com/M5Fly-kanazawa/Controller_desigen_exercise"
   ]
  },
  {
   "cell_type": "code",
   "execution_count": null,
   "id": "9ff13ec7",
   "metadata": {},
   "outputs": [],
   "source": [
    "mport os\n",
    "path = '/content/control_desigen_exercise'  # 作業ディレクトリのパスを指定\n",
    "\n",
    "# 作業ディレクトリをpathに移動する\n",
    "os.chdir(path)\n",
    "\n",
    "# 作業ディレクトリ直下のファイルを確認\n",
    "!ls"
   ]
  }
 ],
 "metadata": {
  "kernelspec": {
   "display_name": "Python 3 (ipykernel)",
   "language": "python",
   "name": "python3"
  },
  "language_info": {
   "codemirror_mode": {
    "name": "ipython",
    "version": 3
   },
   "file_extension": ".py",
   "mimetype": "text/x-python",
   "name": "python",
   "nbconvert_exporter": "python",
   "pygments_lexer": "ipython3",
   "version": "3.10.14"
  }
 },
 "nbformat": 4,
 "nbformat_minor": 5
}
