{
 "cells": [
  {
   "cell_type": "markdown",
   "id": "8a866f49",
   "metadata": {},
   "source": [
    "#　Python Control 練習\n",
    "次のセルを実行して、python-controlをインストールします。\n",
    "\n",
    "セルの実行は左の▷を押すか、セルを選択してshift+enterです・"
   ]
  },
  {
   "cell_type": "code",
   "execution_count": null,
   "id": "67effa8b",
   "metadata": {},
   "outputs": [],
   "source": [
    "!pip install control"
   ]
  },
  {
   "cell_type": "code",
   "execution_count": null,
   "id": "8541fa4e",
   "metadata": {},
   "outputs": [],
   "source": [
    "#必要なモジュールを読み込む\n",
    "import control as ctrl\n",
    "import numpy as np\n",
    "import matplotlib.pyplot as plt\n"
   ]
  },
  {
   "cell_type": "code",
   "execution_count": null,
   "id": "3b53c0ce",
   "metadata": {},
   "outputs": [],
   "source": [
    "#伝達関数オブジェクトを作成\n",
    "sys=ctrl.tf( [110],  [0.01, 1 , 0] )\n",
    "print(sys)\n"
   ]
  },
  {
   "cell_type": "code",
   "execution_count": null,
   "id": "36771793",
   "metadata": {},
   "outputs": [],
   "source": [
    "#システムの安定余裕を調べる\n",
    "gm, pm, gcw, pcw = ctrl.margin(sys)\n",
    "print(\"ゲイン余裕:\", gm)\n",
    "print(\"位相余裕:\", pm)\n",
    "print(\"位相交差周波数:\", gcw)\n",
    "print(\"ゲイン交差周波数:\", pcw)\n"
   ]
  },
  {
   "cell_type": "code",
   "execution_count": null,
   "id": "0493f0fe",
   "metadata": {},
   "outputs": [],
   "source": [
    "#ステップ応答を計算\n",
    "t, y = ctrl.step_response(sys)\n",
    "plt.figure()\n",
    "plt.plot(t, y)\n",
    "plt.title(\"Step Response\")\n",
    "plt.xlabel(\"Time [s]\")\n",
    "plt.ylabel(\"Amplitude\")\n",
    "plt.grid()\n",
    "plt.show()\n"
   ]
  },
  {
   "cell_type": "code",
   "execution_count": null,
   "id": "ac3245c6",
   "metadata": {},
   "outputs": [],
   "source": [
    "#ボード線図を描く\n",
    "\n",
    "ctrl.bode(sys)"
   ]
  },
  {
   "cell_type": "code",
   "execution_count": null,
   "id": "4e951a26",
   "metadata": {},
   "outputs": [],
   "source": [
    "#複数のボード線図を重ねる\n",
    "sys1 = ctrl.tf([1], [1, 3, 2])\n",
    "sys2 = ctrl.tf([5], [1, 1])\n",
    "ctrl.bode([sys1, sys2])"
   ]
  },
  {
   "cell_type": "code",
   "execution_count": null,
   "id": "242118c4",
   "metadata": {},
   "outputs": [],
   "source": [
    "# 複数のシステムの直列接続\n",
    "newsys = sys1*sys2\n",
    "ctrl.bode(newsys)"
   ]
  },
  {
   "cell_type": "markdown",
   "id": "13877b6e",
   "metadata": {},
   "source": [
    "# ループ成形チャレンジ"
   ]
  },
  {
   "cell_type": "markdown",
   "id": "cb499c50",
   "metadata": {},
   "source": [
    "## StampFlyの伝達関数を生成"
   ]
  },
  {
   "cell_type": "code",
   "execution_count": null,
   "id": "1264853c",
   "metadata": {},
   "outputs": [],
   "source": [
    "#必要なモジュールを読み込む\n",
    "import control as ctrl\n",
    "import numpy as np\n",
    "import matplotlib.pyplot as plt\n",
    "\n",
    "#StampFlyのマル秘パラメータ\n",
    "roll_gain= 219.4161359941975\n",
    "pitch_gain= 151.11667712081575\n",
    "yaw_gain= 29.43538617407769\n",
    "time_constant_stampfly = 0.011727677322467796\n",
    "\n",
    "#Roll, Pitch, Yawの伝達関数を生成\n",
    "sys_roll = ctrl.tf( [roll_gain],  [time_constant_stampfly, 1 , 0] )\n",
    "sys_pitch = ctrl.tf( [pitch_gain],  [time_constant_stampfly, 1 , 0] )\n",
    "sys_yaw = ctrl.tf( [yaw_gain],  [time_constant_stampfly, 1 , 0] )\n",
    "\n",
    "#表示\n",
    "print(\"Rollの伝達関数\")\n",
    "print(sys_roll)\n",
    "print(\"Pitchの伝達関数\")\n",
    "print(sys_pitch)\n",
    "print(\"Yawの伝達関数\")\n",
    "print(sys_yaw)"
   ]
  },
  {
   "cell_type": "code",
   "execution_count": null,
   "id": "de5fcea0",
   "metadata": {},
   "outputs": [],
   "source": [
    "# Bode線図を描く\n",
    "\n",
    "ctrl.bode([sys_roll, sys_pitch, sys_yaw])\n",
    "plt.legend([\"Roll\", \"Pitch\", \"Yaw\"])\n",
    "plt.show()\n"
   ]
  },
  {
   "cell_type": "code",
   "execution_count": null,
   "id": "78a498d3",
   "metadata": {},
   "outputs": [],
   "source": [
    "# 位相余裕とゲイン交差周波数を求める\n",
    "\n",
    "for sys, name in zip([sys_roll, sys_pitch, sys_yaw],[\"Roll\", \"Pitch\", \"Yaw\"]):\n",
    "    gm, pm, wg, wp = ctrl.margin(sys)\n",
    "    print(f\"{name} - 位相余裕: {pm:.2f} deg\")\n",
    "    print(f\"{name} - ゲイン交差周波数: {wp:.2f} rad/s\")"
   ]
  },
  {
   "cell_type": "markdown",
   "id": "44797bc4",
   "metadata": {},
   "source": [
    "## 比例制御器の設計"
   ]
  },
  {
   "cell_type": "code",
   "execution_count": null,
   "id": "6a2dfe7b",
   "metadata": {},
   "outputs": [],
   "source": [
    "# 比例制御の設計\n",
    "# 以下のゲインを変更して臨む位相余裕になるように試行錯誤してください\n",
    "Kp_roll = 1.0\n",
    "Kp_pitch = 1.0\n",
    "Kp_yaw = 1.0\n",
    "\n",
    "# 比例制御器の伝達関数\n",
    "sys_roll_p = ctrl.tf([Kp_roll], [0, 1])\n",
    "sys_pitch_p = ctrl.tf([Kp_pitch], [0, 1])\n",
    "sys_yaw_p = ctrl.tf([Kp_yaw], [0, 1])\n",
    "\n",
    "# 制御系の伝達関数\n",
    "sys_roll_openloop = sys_roll_p*sys_roll\n",
    "sys_pitch_openloop = sys_pitch_p*sys_pitch\n",
    "sys_yaw_openloop = sys_yaw_p*sys_yaw\n",
    "\n",
    "# 余裕を表示\n",
    "for sys, name in zip([sys_roll_openloop, sys_pitch_openloop, sys_yaw_openloop],[\"Roll\", \"Pitch\", \"Yaw\"]):\n",
    "    gm, pm, wg, wp = ctrl.margin(sys)\n",
    "    print(f\"{name} - 位相余裕: {pm:.2f} deg\")\n",
    "    print(f\"{name} - ゲイン交差周波数: {wp:.2f} rad/s\")\n",
    "\n",
    "# Bode線図を描く\n",
    "ctrl.bode([sys_roll_openloop, sys_pitch_openloop, sys_yaw_openloop])\n",
    "plt.legend([\"Roll\", \"Pitch\", \"Yaw\"])\n",
    "plt.show()"
   ]
  },
  {
   "cell_type": "markdown",
   "id": "c3456190",
   "metadata": {},
   "source": [
    "## PID制御器の設計"
   ]
  },
  {
   "cell_type": "code",
   "execution_count": null,
   "id": "bd6f4a9f",
   "metadata": {},
   "outputs": [],
   "source": [
    "# PID制御器の設計\n",
    "# 以下のゲインを変更して臨む位相余裕になるように試行錯誤してください\n",
    "Kp_roll = 1.0\n",
    "Ti_roll = 10\n",
    "Td_roll = 0.01\n",
    "eta_roll = 0.05\n",
    "\n",
    "Kp_pitch = 1.0\n",
    "Ti_pitch = 10\n",
    "Td_pitch = 0.01\n",
    "eta_pitch = 0.05\n",
    "\n",
    "Kp_yaw = 1.0\n",
    "Ti_yaw = 10\n",
    "Td_yaw = 0.01\n",
    "eta_yaw = 0.05\n",
    "\n",
    "# 不完全微分を含むPID制御器の伝達関数\n",
    "sys_roll_i = ctrl.tf([1], [Ti_roll, 0])\n",
    "sys_roll_d = ctrl.tf([Td_roll, 0], [eta_roll*Td_roll, 1])\n",
    "sys_roll_pid = Kp_roll * (1 + sys_roll_i + sys_roll_d)\n",
    "\n",
    "sys_pitch_i = ctrl.tf([1], [Ti_pitch, 0])\n",
    "sys_pitch_d = ctrl.tf([Td_pitch, 0], [eta_pitch*Td_pitch, 1])\n",
    "sys_pitch_pid = Kp_pitch * (1 + sys_pitch_i + sys_pitch_d)\n",
    "\n",
    "sys_yaw_i = ctrl.tf([1], [Ti_yaw, 0])\n",
    "sys_yaw_d = ctrl.tf([Td_yaw, 0], [eta_yaw*Td_yaw, 1])\n",
    "sys_yaw_pid = Kp_yaw * (1 + sys_yaw_i + sys_yaw_d)\n",
    "\n",
    "sys_roll_pid = Kp_roll * (1 + sys_roll_i + sys_roll_d)\n",
    "\n",
    "sys_pitch_i = ctrl.tf([1], [Ti_pitch, 0])\n",
    "sys_pitch_d = ctrl.tf([Td_pitch, 0], [eta_pitch*Td_pitch, 1])\n",
    "sys_pitch_pid = Kp_pitch * (1 + sys_pitch_i + sys_pitch_d)\n",
    "\n",
    "sys_yaw_i = ctrl.tf([1], [Ti_yaw, 0])\n",
    "sys_yaw_d = ctrl.tf([Td_yaw, 0], [eta_yaw*Td_yaw, 1])\n",
    "sys_yaw_pid = Kp_yaw * (1 + sys_yaw_i + sys_yaw_d)\n",
    "\n",
    "\n",
    "# 制御系の伝達関数\n",
    "sys_roll_openloop = sys_roll_pid*sys_roll\n",
    "sys_pitch_openloop = sys_pitch_pid*sys_pitch\n",
    "sys_yaw_openloop = sys_yaw_pid*sys_yaw\n",
    "\n",
    "# 余裕を表示\n",
    "for sys, name in zip([sys_roll_openloop, sys_pitch_openloop, sys_yaw_openloop],[\"Roll\", \"Pitch\", \"Yaw\"]):\n",
    "    gm, pm, wg, wp = ctrl.margin(sys)\n",
    "    print(f\"{name} - 位相余裕: {pm:.2f} deg\")\n",
    "    print(f\"{name} - ゲイン交差周波数: {wp:.2f} rad/s\")\n",
    "\n",
    "# Bode線図を描く\n",
    "ctrl.bode([sys_roll_openloop, sys_pitch_openloop, sys_yaw_openloop])\n",
    "plt.legend([\"Roll\", \"Pitch\", \"Yaw\"])\n",
    "plt.show()"
   ]
  },
  {
   "cell_type": "code",
   "execution_count": null,
   "id": "731a89b7",
   "metadata": {},
   "outputs": [],
   "source": []
  }
 ],
 "metadata": {
  "kernelspec": {
   "display_name": "Python 3 (ipykernel)",
   "language": "python",
   "name": "python3"
  },
  "language_info": {
   "codemirror_mode": {
    "name": "ipython",
    "version": 3
   },
   "file_extension": ".py",
   "mimetype": "text/x-python",
   "name": "python",
   "nbconvert_exporter": "python",
   "pygments_lexer": "ipython3",
   "version": "3.10.14"
  }
 },
 "nbformat": 4,
 "nbformat_minor": 5
}
