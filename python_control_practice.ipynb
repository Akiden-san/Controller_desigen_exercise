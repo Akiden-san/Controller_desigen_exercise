{
 "cells": [
  {
   "cell_type": "markdown",
   "id": "8a866f49",
   "metadata": {},
   "source": [
    "#　Python Control 練習\n",
    "次のセルを実行して、python-controlをインストールします。\n",
    "\n",
    "セルの実行は左の▷を押すか、セルを選択してshift+enterです・"
   ]
  },
  {
   "cell_type": "code",
   "execution_count": null,
   "id": "67effa8b",
   "metadata": {},
   "outputs": [],
   "source": [
    "!pip install control"
   ]
  },
  {
   "cell_type": "code",
   "execution_count": null,
   "id": "8541fa4e",
   "metadata": {},
   "outputs": [],
   "source": [
    "#必要なモジュールを読み込む\n",
    "import control as ctrl\n",
    "import numpy as np\n",
    "import matplotlib.pyplot as plt\n"
   ]
  },
  {
   "cell_type": "code",
   "execution_count": null,
   "id": "3b53c0ce",
   "metadata": {},
   "outputs": [],
   "source": [
    "#伝達関数オブジェクトを作成\n",
    "sys=ctrl.tf( [110],  [0.01, 1 , 0] )\n",
    "print(sys)\n"
   ]
  },
  {
   "cell_type": "code",
   "execution_count": null,
   "id": "36771793",
   "metadata": {},
   "outputs": [],
   "source": [
    "#システムの安定余裕を調べる\n",
    "gm, pm, gcw, pcw = ctrl.margin(sys)\n",
    "print(\"ゲイン余裕:\", gm)\n",
    "print(\"位相余裕:\", pm)\n",
    "print(\"位相交差周波数:\", gcw)\n",
    "print(\"ゲイン交差周波数:\", pcw)\n"
   ]
  },
  {
   "cell_type": "code",
   "execution_count": null,
   "id": "0493f0fe",
   "metadata": {},
   "outputs": [],
   "source": [
    "#ステップ応答を計算\n",
    "t, y = ctrl.step_response(sys)\n",
    "plt.figure()\n",
    "plt.plot(t, y)\n",
    "plt.title(\"Step Response\")\n",
    "plt.xlabel(\"Time [s]\")\n",
    "plt.ylabel(\"Amplitude\")\n",
    "plt.grid()\n",
    "plt.show()\n"
   ]
  },
  {
   "cell_type": "code",
   "execution_count": null,
   "id": "ac3245c6",
   "metadata": {},
   "outputs": [],
   "source": [
    "#ボード線図を描く\n",
    "\n",
    "ctrl.bode(sys)"
   ]
  },
  {
   "cell_type": "code",
   "execution_count": null,
   "id": "4e951a26",
   "metadata": {},
   "outputs": [],
   "source": [
    "#複数のボード線図を重ねる\n",
    "sys1 = ctrl.tf([1], [1, 3, 2])\n",
    "sys2 = ctrl.tf([5], [1, 1])\n",
    "ctrl.bode([sys1, sys2])"
   ]
  },
  {
   "cell_type": "code",
   "execution_count": null,
   "id": "242118c4",
   "metadata": {},
   "outputs": [],
   "source": [
    "# 複数のシステムの直列接続\n",
    "newsys = sys1*sys2\n",
    "ctrl.bode(newsys)"
   ]
  },
  {
   "cell_type": "markdown",
   "id": "13877b6e",
   "metadata": {},
   "source": [
    "# ループ成形チャレンジ"
   ]
  },
  {
   "cell_type": "markdown",
   "id": "cb499c50",
   "metadata": {},
   "source": [
    "## StampFlyの伝達関数を生成"
   ]
  },
  {
   "cell_type": "code",
   "execution_count": null,
   "id": "1264853c",
   "metadata": {},
   "outputs": [],
   "source": [
    "#必要なモジュールを読み込む\n",
    "import control as ctrl\n",
    "import numpy as np\n",
    "import matplotlib.pyplot as plt\n",
    "\n",
    "roll_gain= 219.4161359941975\n",
    "pitch_gain= 151.11667712081575\n",
    "yaw_gain= 29.43538617407769\n",
    "time_constant_stampfly = 0.011727677322467796\n",
    "\n",
    "#Roll, Pitch, Yawの伝達関数を生成\n",
    "sys_roll = ctrl.tf( [roll_gain],  [time_constant_stampfly, 1 , 0] )\n",
    "sys_pitch = ctrl.tf( [pitch_gain],  [time_constant_stampfly, 1 , 0] )\n",
    "sys_yaw = ctrl.tf( [yaw_gain],  [time_constant_stampfly, 1 , 0] )\n",
    "\n",
    "#表示\n",
    "print(\"Rollの伝達関数\")\n",
    "print(sys_roll)\n",
    "print(\"Pitchの伝達関数\")\n",
    "print(sys_pitch)\n",
    "print(\"Yawの伝達関数\")\n",
    "print(sys_yaw)"
   ]
  },
  {
   "cell_type": "code",
   "execution_count": null,
   "id": "de5fcea0",
   "metadata": {},
   "outputs": [],
   "source": [
    "# Bode線図を描く\n",
    "\n",
    "ctrl.bode([sys_roll, sys_pitch, sys_yaw])\n",
    "plt.legend([\"Roll\", \"Pitch\", \"Yaw\"])\n",
    "plt.show()\n"
   ]
  },
  {
   "cell_type": "code",
   "execution_count": null,
   "id": "78a498d3",
   "metadata": {},
   "outputs": [],
   "source": []
  }
 ],
 "metadata": {
  "kernelspec": {
   "display_name": "Python 3 (ipykernel)",
   "language": "python",
   "name": "python3"
  },
  "language_info": {
   "codemirror_mode": {
    "name": "ipython",
    "version": 3
   },
   "file_extension": ".py",
   "mimetype": "text/x-python",
   "name": "python",
   "nbconvert_exporter": "python",
   "pygments_lexer": "ipython3",
   "version": "3.10.14"
  }
 },
 "nbformat": 4,
 "nbformat_minor": 5
}
